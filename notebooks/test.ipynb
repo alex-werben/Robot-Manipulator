{
 "cells": [
  {
   "cell_type": "code",
   "id": "initial_id",
   "metadata": {
    "collapsed": true,
    "ExecuteTime": {
     "end_time": "2024-04-26T15:46:34.449770Z",
     "start_time": "2024-04-26T15:46:34.444395Z"
    }
   },
   "source": [
    "s = \"joint1\"\n",
    "a = \"other\""
   ],
   "outputs": [],
   "execution_count": 1
  },
  {
   "metadata": {
    "ExecuteTime": {
     "end_time": "2024-04-26T15:46:48.821183Z",
     "start_time": "2024-04-26T15:46:48.816637Z"
    }
   },
   "cell_type": "code",
   "source": "a.startswith(\"joint\")",
   "id": "d2c2ef293a8949a5",
   "outputs": [
    {
     "data": {
      "text/plain": [
       "False"
      ]
     },
     "execution_count": 3,
     "metadata": {},
     "output_type": "execute_result"
    }
   ],
   "execution_count": 3
  },
  {
   "metadata": {
    "ExecuteTime": {
     "end_time": "2024-05-03T15:00:57.860355Z",
     "start_time": "2024-05-03T15:00:57.523604Z"
    }
   },
   "cell_type": "code",
   "source": "import gym",
   "id": "f8204ca5b4416f72",
   "outputs": [],
   "execution_count": 1
  },
  {
   "metadata": {
    "ExecuteTime": {
     "end_time": "2024-05-03T15:01:36.236181Z",
     "start_time": "2024-05-03T15:01:36.232945Z"
    }
   },
   "cell_type": "code",
   "source": "env = gym.make('Pendulum-v1')",
   "id": "171be3dd6c1ccf9d",
   "outputs": [],
   "execution_count": 4
  },
  {
   "metadata": {
    "ExecuteTime": {
     "end_time": "2024-05-03T15:01:55.120957Z",
     "start_time": "2024-05-03T15:01:55.116840Z"
    }
   },
   "cell_type": "code",
   "source": "",
   "id": "f05d3af694e52807",
   "outputs": [
    {
     "data": {
      "text/plain": [
       "array([0.6680914], dtype=float32)"
      ]
     },
     "execution_count": 17,
     "metadata": {},
     "output_type": "execute_result"
    }
   ],
   "execution_count": 17
  },
  {
   "metadata": {},
   "cell_type": "code",
   "outputs": [],
   "execution_count": null,
   "source": "",
   "id": "74b369f661c44b99"
  }
 ],
 "metadata": {
  "kernelspec": {
   "display_name": "Python 3",
   "language": "python",
   "name": "python3"
  },
  "language_info": {
   "codemirror_mode": {
    "name": "ipython",
    "version": 2
   },
   "file_extension": ".py",
   "mimetype": "text/x-python",
   "name": "python",
   "nbconvert_exporter": "python",
   "pygments_lexer": "ipython2",
   "version": "2.7.6"
  }
 },
 "nbformat": 4,
 "nbformat_minor": 5
}
